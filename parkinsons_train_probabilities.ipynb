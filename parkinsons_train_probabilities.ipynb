{
  "cells": [
    {
      "cell_type": "markdown",
      "metadata": {
        "id": "view-in-github",
        "colab_type": "text"
      },
      "source": [
        "<a href=\"https://colab.research.google.com/github/KingDurian/oss/blob/main/parkinsons_train_probabilities.ipynb\" target=\"_parent\"><img src=\"https://colab.research.google.com/assets/colab-badge.svg\" alt=\"Open In Colab\"/></a>"
      ]
    },
    {
      "cell_type": "code",
      "source": [
        "from google.colab import drive\n",
        "drive.mount('/content/drive')\n",
        "!cp /content/drive/MyDrive/config.py .\n",
        "!cp drive/MyDrive/model_dispatcher.py .\n",
        "import config\n",
        "import model_dispatcher\n",
        "\n",
        "\n",
        "import sys\n",
        "import importlib.util\n",
        "\n",
        "\n",
        "importlib.reload(config)\n",
        "importlib.reload(model_dispatcher)\n",
        "\n"
      ],
      "metadata": {
        "colab": {
          "base_uri": "https://localhost:8080/"
        },
        "id": "qAFW3OIDXxS_",
        "outputId": "6a444a92-8bfe-4efc-9d40-aabaf9c0b6af"
      },
      "id": "qAFW3OIDXxS_",
      "execution_count": 55,
      "outputs": [
        {
          "output_type": "stream",
          "name": "stdout",
          "text": [
            "Drive already mounted at /content/drive; to attempt to forcibly remount, call drive.mount(\"/content/drive\", force_remount=True).\n"
          ]
        },
        {
          "output_type": "execute_result",
          "data": {
            "text/plain": [
              "<module 'model_dispatcher' from '/content/model_dispatcher.py'>"
            ]
          },
          "metadata": {},
          "execution_count": 55
        }
      ]
    },
    {
      "cell_type": "code",
      "execution_count": 56,
      "id": "bfa17112",
      "metadata": {
        "id": "bfa17112"
      },
      "outputs": [],
      "source": [
        "\n",
        "# configuration information are in these files\n",
        "\n",
        "import model_dispatcher\n",
        "\n",
        "import itertools\n",
        "\n",
        "import pandas as pd\n",
        "import numpy as np\n",
        "import matplotlib.pyplot as plt\n",
        "\n",
        "from sklearn import metrics\n",
        "from sklearn import tree\n",
        "from sklearn.metrics import classification_report, confusion_matrix\n",
        "\n"
      ]
    },
    {
      "cell_type": "markdown",
      "id": "6e4bc289",
      "metadata": {
        "id": "6e4bc289"
      },
      "source": [
        "## Data Preprocessing"
      ]
    },
    {
      "cell_type": "code",
      "execution_count": 57,
      "id": "ccd4d462",
      "metadata": {
        "id": "ccd4d462"
      },
      "outputs": [],
      "source": [
        "from sklearn.preprocessing import StandardScaler, MinMaxScaler, KBinsDiscretizer, LabelEncoder, OrdinalEncoder\n",
        "# Column Transformer\n",
        "from sklearn.compose import ColumnTransformer\n",
        "from sklearn.model_selection import train_test_split"
      ]
    },
    {
      "cell_type": "code",
      "execution_count": 58,
      "id": "dec25814",
      "metadata": {
        "id": "dec25814"
      },
      "outputs": [],
      "source": [
        "def transform_data(df, fold):    \n",
        "\n",
        "    # new ratio features\n",
        "    numeric_features = ['MDVP_Fo_Hz_', 'MDVP_Fhi_Hz_', 'MDVP_Flo_Hz_', 'MDVP_Jitter_', 'MDVP_Jitter_Abs_',\n",
        " 'MDVP_RAP', 'MDVP_PPQ', 'Jitter_DDP', 'MDVP_Shimmer', 'MDVP_Shimmer_dB_', 'Shimmer_APQ3', 'Shimmer_APQ5',\n",
        " 'MDVP_APQ', 'Shimmer_DDA', 'NHR', 'HNR', 'RPDE', 'DFA', 'spread1', 'spread2', 'D2', 'PPE']\n",
        "            \n",
        "    # training data - use all the data that does not belong to the fold\n",
        "    # validation data - use all the data that is marked with that fold\n",
        "    df_train = df.loc[df.kfold != fold].reset_index(drop=True)\n",
        "    df_valid = df.loc[df.kfold == fold].reset_index(drop=True)\n",
        "    \n",
        "    # train\n",
        "    # drop the target/label\n",
        "    X_train = df_train[numeric_features]\n",
        "    y_train = df_train['status'].values\n",
        "    \n",
        "    # validation\n",
        "    # drop the target/label\n",
        "    X_valid = df_valid[numeric_features]\n",
        "    y_valid = df_valid['status'].values\n",
        "    \n",
        "    # learn from entire dataset for transformation - good idea or no?\n",
        "    colTransformer = None\n",
        "\n",
        "    colTransformer = ColumnTransformer([('standardize',StandardScaler(),numeric_features)],\n",
        "        remainder=\"passthrough\")\n",
        "        \n",
        "    colTransformer.fit(df[numeric_features])   \n",
        "    \n",
        "    train_data_transformed = colTransformer.transform (X_train)\n",
        "    valid_data_transformed = colTransformer.transform (X_valid)\n",
        "        \n",
        "    return (train_data_transformed, valid_data_transformed, y_train, y_valid)    "
      ]
    },
    {
      "cell_type": "code",
      "execution_count": 59,
      "id": "c4d769ea",
      "metadata": {
        "id": "c4d769ea"
      },
      "outputs": [],
      "source": [
        "def run_fold(fold, modelName):\n",
        "    df = pd.read_csv(config.TRAINING_FILE)\n",
        "      \n",
        "    \n",
        "    x_train, x_valid, y_train, y_valid = transform_data(df, fold)\n",
        "    \n",
        "    classifier = model_dispatcher.models[modelName]\n",
        "    classifier.fit(x_train, y_train)\n",
        "    \n",
        "    # create predictions for validation data\n",
        "    # We are predicting probabilites scores\n",
        "    preds = classifier.predict_proba(x_valid)    \n",
        "    preds = np.where(preds[:,1] >= config.THRESHOLD,1,0)\n",
        "    \n",
        "    print(\"Threshold\", config.THRESHOLD)\n",
        "    # calculate and print accuracy metrics\n",
        "    accuracy = metrics.accuracy_score(y_valid, preds)\n",
        "    \n",
        "    print(f'Fold: {fold}, Accuracy:{accuracy:0.4f}')\n",
        "    \n",
        "    # Compute confusion matrix\n",
        "    print('Confusion Matrix')    \n",
        "    cnf_matrix = confusion_matrix(y_valid,preds,labels=[0,1])    \n",
        "    print(cnf_matrix)\n",
        "    \n",
        "    print('Confusion Matrix - Normalized')\n",
        "    cnf_matrix = confusion_matrix(y_valid,preds,labels=[0,1], normalize='true')    \n",
        "    print(cnf_matrix)\n",
        "    \n",
        "    # calculate and print accuracy metrics\n",
        "    accuracy = metrics.accuracy_score(y_valid, preds)\n",
        "    recall = metrics.recall_score(y_valid, preds)\n",
        "    precision = metrics.precision_score(y_valid, preds)\n",
        "    f1_score = metrics.f1_score(y_valid, preds)\n",
        "\n",
        "    print(f'  Fold: {fold}, Accuracy:{accuracy:0.4f}, F1Score:{f1_score:0.4f}, Recall:{recall:0.4f}, Precision:{precision:0.4f}')    \n",
        "  \n",
        "    \n"
      ]
    },
    {
      "cell_type": "code",
      "execution_count": 60,
      "id": "28070ef4",
      "metadata": {
        "id": "28070ef4",
        "colab": {
          "base_uri": "https://localhost:8080/"
        },
        "outputId": "8bd53edb-0f93-4752-8289-e5764f186374"
      },
      "outputs": [
        {
          "output_type": "stream",
          "name": "stdout",
          "text": [
            "Threshold 0.7\n",
            "Fold: 0, Accuracy:0.6923\n",
            "Confusion Matrix\n",
            "[[ 4  5]\n",
            " [ 7 23]]\n",
            "Confusion Matrix - Normalized\n",
            "[[0.44444444 0.55555556]\n",
            " [0.23333333 0.76666667]]\n",
            "  Fold: 0, Accuracy:0.6923, F1Score:0.7931, Recall:0.7667, Precision:0.8214\n",
            "Threshold 0.7\n",
            "Fold: 1, Accuracy:0.7692\n",
            "Confusion Matrix\n",
            "[[ 6  3]\n",
            " [ 6 24]]\n",
            "Confusion Matrix - Normalized\n",
            "[[0.66666667 0.33333333]\n",
            " [0.2        0.8       ]]\n",
            "  Fold: 1, Accuracy:0.7692, F1Score:0.8421, Recall:0.8000, Precision:0.8889\n",
            "Threshold 0.7\n",
            "Fold: 2, Accuracy:0.9231\n",
            "Confusion Matrix\n",
            "[[ 8  2]\n",
            " [ 1 28]]\n",
            "Confusion Matrix - Normalized\n",
            "[[0.8        0.2       ]\n",
            " [0.03448276 0.96551724]]\n",
            "  Fold: 2, Accuracy:0.9231, F1Score:0.9492, Recall:0.9655, Precision:0.9333\n",
            "Threshold 0.7\n",
            "Fold: 3, Accuracy:0.7949\n",
            "Confusion Matrix\n",
            "[[ 7  3]\n",
            " [ 5 24]]\n",
            "Confusion Matrix - Normalized\n",
            "[[0.7        0.3       ]\n",
            " [0.17241379 0.82758621]]\n",
            "  Fold: 3, Accuracy:0.7949, F1Score:0.8571, Recall:0.8276, Precision:0.8889\n",
            "Threshold 0.7\n",
            "Fold: 4, Accuracy:0.5897\n",
            "Confusion Matrix\n",
            "[[ 2  8]\n",
            " [ 8 21]]\n",
            "Confusion Matrix - Normalized\n",
            "[[0.2        0.8       ]\n",
            " [0.27586207 0.72413793]]\n",
            "  Fold: 4, Accuracy:0.5897, F1Score:0.7241, Recall:0.7241, Precision:0.7241\n"
          ]
        }
      ],
      "source": [
        "# train the models with logistic regression\n",
        "for fold in range(5):\n",
        "    run_fold(fold=fold, modelName= \"knn\" )"
      ]
    },
    {
      "cell_type": "code",
      "execution_count": 60,
      "id": "c459bf38",
      "metadata": {
        "id": "c459bf38"
      },
      "outputs": [],
      "source": []
    }
  ],
  "metadata": {
    "kernelspec": {
      "display_name": "Python 3 (ipykernel)",
      "language": "python",
      "name": "python3"
    },
    "language_info": {
      "codemirror_mode": {
        "name": "ipython",
        "version": 3
      },
      "file_extension": ".py",
      "mimetype": "text/x-python",
      "name": "python",
      "nbconvert_exporter": "python",
      "pygments_lexer": "ipython3",
      "version": "3.9.7"
    },
    "colab": {
      "provenance": [],
      "include_colab_link": true
    }
  },
  "nbformat": 4,
  "nbformat_minor": 5
}